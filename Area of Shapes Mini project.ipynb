{
 "cells": [
  {
   "cell_type": "code",
   "execution_count": 1,
   "metadata": {},
   "outputs": [
    {
     "name": "stdout",
     "output_type": "stream",
     "text": [
      "--------------------------- AREA OF SHAPES----------------------------------------\n",
      "Which shape would you like to calculate the area for?\n",
      "1. Square\n",
      "2. Rectangle\n",
      "3. Triangle\n",
      "4. Circle\n",
      "\n",
      "\n",
      "\t\t Please enter the option number- 4\n",
      "\n",
      "\n",
      "Please enter the radius of the circle (in cm): i\n",
      "***Invalid input!Please use numbers and try again***\n",
      "Please enter the radius of the circle (in cm): [\n",
      "***Invalid input!Please use numbers and try again***\n",
      "Please enter the radius of the circle (in cm):  \n",
      "***Invalid input!Please use numbers and try again***\n",
      "Please enter the radius of the circle (in cm): n\n",
      "***Invalid input!Please use numbers and try again***\n",
      "Please enter the radius of the circle (in cm): 8\n",
      "Area of the circle of radius 8.0 is 201.06 sqcm \n"
     ]
    }
   ],
   "source": [
    "print(\"--------------------------- AREA OF SHAPES----------------------------------------\")\n",
    "print(\"Which shape would you like to calculate the area for?\")\n",
    "print(\"1. Square\\n2. Rectangle\\n3. Triangle\\n4. Circle\")\n",
    "print('\\n')\n",
    "option_number = int(input(\"\\t\\t Please enter the option number- \"))\n",
    "\n",
    "print('\\n')\n",
    "\n",
    "if option_number == 1:\n",
    "    while True:\n",
    "        try:\n",
    "            square_len = float(input(\"Please enter the length of a side (in cm): \"))\n",
    "            area_sq = round(square_len**2,2)\n",
    "            print(f\"Area of the square of side {square_len} is {area_sq} sqcm \")\n",
    "            break\n",
    "        except ValueError:\n",
    "            print(\"***Invalid input! Please use numbers and try again***\")\n",
    "            continue\n",
    "\n",
    "elif option_number == 2:\n",
    "    while True:\n",
    "        try:\n",
    "            rec_len = float(input(\"Please enter the length of the rectangle (in cm): \"))\n",
    "            rec_bre = float(input(\"Please enter the breadth of the rectangle (in cm): \"))\n",
    "            area_rec = round(rec_len*rec_bre,2)\n",
    "            print(f\"Area of the rectangle of lenght {rec_len} cm and breadth {rec_bre} cm is {area_rec} sqcm \")\n",
    "            break\n",
    "        except ValueError:\n",
    "            print(\"***Invalid input!Please use numbers and try again***\")\n",
    "            continue\n",
    "\n",
    "elif option_number == 3:\n",
    "    while True:\n",
    "        try:\n",
    "            base_len = float(input(\"Please enter the length of the base (in cm): \"))\n",
    "            altitude_len = float(input(\"Please enter the altitude (in cm): \"))\n",
    "            area_tri = round((0.5*base_len*altitude_len),2)\n",
    "            print(f\"Area of the triangle of base {base_len} and altitude {altitude_len} is {area_tri} sqcm \")\n",
    "            break\n",
    "        except ValueError:\n",
    "            print(\"***Invalid input!Please use numbers and try again***\")\n",
    "            continue\n",
    "\n",
    "elif option_number == 4:\n",
    "    while True:\n",
    "        try:\n",
    "            import math\n",
    "            circle_ra = float(input(\"Please enter the radius of the circle (in cm): \"))\n",
    "            area_c = round(math.pi*circle_ra**2,2)\n",
    "            print(f\"Area of the circle of radius {circle_ra} is {area_c} sqcm \")\n",
    "            break\n",
    "        except ValueError:\n",
    "            print(\"***Invalid input!Please use numbers and try again***\")\n",
    "            continue\n",
    "        \n",
    "        \n",
    "else:\n",
    "    print(\"Please enter a correct option number shown above.\")\n",
    "    \n",
    "\n",
    "    "
   ]
  },
  {
   "cell_type": "raw",
   "metadata": {},
   "source": []
  },
  {
   "cell_type": "code",
   "execution_count": null,
   "metadata": {},
   "outputs": [],
   "source": []
  },
  {
   "cell_type": "code",
   "execution_count": null,
   "metadata": {},
   "outputs": [],
   "source": []
  },
  {
   "cell_type": "code",
   "execution_count": null,
   "metadata": {},
   "outputs": [],
   "source": []
  }
 ],
 "metadata": {
  "kernelspec": {
   "display_name": "Python 3",
   "language": "python",
   "name": "python3"
  },
  "language_info": {
   "codemirror_mode": {
    "name": "ipython",
    "version": 3
   },
   "file_extension": ".py",
   "mimetype": "text/x-python",
   "name": "python",
   "nbconvert_exporter": "python",
   "pygments_lexer": "ipython3",
   "version": "3.8.3"
  }
 },
 "nbformat": 4,
 "nbformat_minor": 4
}
